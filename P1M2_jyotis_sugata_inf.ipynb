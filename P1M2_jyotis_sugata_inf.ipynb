{
 "cells": [
  {
   "cell_type": "markdown",
   "id": "cde4919c",
   "metadata": {},
   "source": [
    "# Perkenalan"
   ]
  },
  {
   "cell_type": "markdown",
   "id": "89675e33",
   "metadata": {},
   "source": [
    "Nama : Jyotis Sugata\n",
    "\n",
    "Batch : FTDS-031\n"
   ]
  },
  {
   "cell_type": "markdown",
   "id": "90ab48e1",
   "metadata": {},
   "source": [
    "Notebook ini akan fokus untuk melakukan inference menggunakan model yang sudah dibuat dari notebook lain untuk melakukan prediksi nilai."
   ]
  },
  {
   "cell_type": "markdown",
   "id": "8375b821",
   "metadata": {},
   "source": [
    "# Import Library"
   ]
  },
  {
   "cell_type": "code",
   "execution_count": null,
   "id": "d9b53ecd",
   "metadata": {
    "vscode": {
     "languageId": "plaintext"
    }
   },
   "outputs": [],
   "source": [
    "# Library for dataframe and manipulation\n",
    "import pandas as pd\n",
    "\n",
    "# model saving\n",
    "import pickle"
   ]
  },
  {
   "cell_type": "markdown",
   "id": "3626e03a",
   "metadata": {},
   "source": [
    "# Load Model"
   ]
  },
  {
   "cell_type": "code",
   "execution_count": null,
   "id": "998e19de",
   "metadata": {
    "vscode": {
     "languageId": "plaintext"
    }
   },
   "outputs": [],
   "source": [
    "with open('model_akhir.pkl', 'rb') as file_1:\n",
    "  model_akhir = pickle.load(file_1)"
   ]
  },
  {
   "cell_type": "markdown",
   "id": "c018a262",
   "metadata": {},
   "source": [
    "# Inferencing"
   ]
  },
  {
   "cell_type": "code",
   "execution_count": null,
   "id": "abd35047",
   "metadata": {
    "vscode": {
     "languageId": "plaintext"
    }
   },
   "outputs": [],
   "source": [
    "# Create a new data\n",
    "# Use all columns not just the results of feature selection\n",
    "\n",
    "data_inf_user_1 = {\n",
    "    'Date': '2024-03-23',\n",
    "    'Time': 0,\n",
    "    'Booking ID': 2489,\n",
    "    'Booking Status': 30,\n",
    "    'Customer ID': 'google',\n",
    "    'Vehicle Type': 'organic',\n",
    "    'Pickup Location': 'Organic Search',\n",
    "    'Drop Location': 'desktop',\n",
    "    'Avg VTAT': 'Canada',\n",
    "    'Avg CTAT': 2489,\n",
    "    'Cancelled Rides by Customer': 30,\n",
    "    'Reason for cancelling by Customer': 'google',\n",
    "    'Cancelled Rides by Driver': 'organic',\n",
    "    'Driver Cancellation Reason': 'Organic Search',\n",
    "    'Incomplete Rides': 'desktop',\n",
    "    'Incomplete Rides Reason': 'Canada',\n",
    "}\n",
    "\n",
    "data_inf = pd.DataFrame([data_inf_user_1])\n",
    "data_inf"
   ]
  }
 ],
 "metadata": {
  "language_info": {
   "name": "python"
  }
 },
 "nbformat": 4,
 "nbformat_minor": 5
}
