{
 "cells": [
  {
   "cell_type": "markdown",
   "id": "cde4919c",
   "metadata": {},
   "source": [
    "# Perkenalan"
   ]
  },
  {
   "cell_type": "markdown",
   "id": "89675e33",
   "metadata": {},
   "source": [
    "Nama : Jyotis Sugata\n",
    "\n",
    "Batch : FTDS-031"
   ]
  },
  {
   "cell_type": "markdown",
   "id": "90ab48e1",
   "metadata": {},
   "source": [
    "Notebook ini akan fokus untuk melakukan inference menggunakan model yang sudah dibuat dari notebook lain untuk melakukan prediksi nilai."
   ]
  },
  {
   "cell_type": "markdown",
   "id": "8375b821",
   "metadata": {},
   "source": [
    "# Import Library"
   ]
  },
  {
   "cell_type": "code",
   "execution_count": 4,
   "id": "d9b53ecd",
   "metadata": {},
   "outputs": [],
   "source": [
    "# Library for dataframe and manipulation\n",
    "import pandas as pd\n",
    "\n",
    "# model saving\n",
    "import pickle"
   ]
  },
  {
   "cell_type": "markdown",
   "id": "3626e03a",
   "metadata": {},
   "source": [
    "# Load Model"
   ]
  },
  {
   "cell_type": "code",
   "execution_count": null,
   "id": "998e19de",
   "metadata": {},
   "outputs": [],
   "source": [
    "with open('deployment\\src\\model_akhir.pkl', 'rb') as file_1:\n",
    "  model_akhir = pickle.load(file_1)"
   ]
  },
  {
   "cell_type": "markdown",
   "id": "c018a262",
   "metadata": {},
   "source": [
    "# Inferencing"
   ]
  },
  {
   "cell_type": "code",
   "execution_count": 6,
   "id": "abd35047",
   "metadata": {},
   "outputs": [
    {
     "data": {
      "text/html": [
       "<div>\n",
       "<style scoped>\n",
       "    .dataframe tbody tr th:only-of-type {\n",
       "        vertical-align: middle;\n",
       "    }\n",
       "\n",
       "    .dataframe tbody tr th {\n",
       "        vertical-align: top;\n",
       "    }\n",
       "\n",
       "    .dataframe thead th {\n",
       "        text-align: right;\n",
       "    }\n",
       "</style>\n",
       "<table border=\"1\" class=\"dataframe\">\n",
       "  <thead>\n",
       "    <tr style=\"text-align: right;\">\n",
       "      <th></th>\n",
       "      <th>Date</th>\n",
       "      <th>Time</th>\n",
       "      <th>Booking ID</th>\n",
       "      <th>Booking Status</th>\n",
       "      <th>Customer ID</th>\n",
       "      <th>Vehicle Type</th>\n",
       "      <th>Pickup Location</th>\n",
       "      <th>Drop Location</th>\n",
       "      <th>Avg VTAT</th>\n",
       "      <th>Avg CTAT</th>\n",
       "      <th>...</th>\n",
       "      <th>Reason for cancelling by Customer</th>\n",
       "      <th>Cancelled Rides by Driver</th>\n",
       "      <th>Driver Cancellation Reason</th>\n",
       "      <th>Incomplete Rides</th>\n",
       "      <th>Incomplete Rides Reason</th>\n",
       "      <th>Booking Value</th>\n",
       "      <th>Ride Distance</th>\n",
       "      <th>Driver Ratings</th>\n",
       "      <th>Customer Rating</th>\n",
       "      <th>Payment Method</th>\n",
       "    </tr>\n",
       "  </thead>\n",
       "  <tbody>\n",
       "    <tr>\n",
       "      <th>0</th>\n",
       "      <td>2024-11-29</td>\n",
       "      <td>18:01:39</td>\n",
       "      <td>CNR1326809</td>\n",
       "      <td>Incomplete</td>\n",
       "      <td>CID4604802</td>\n",
       "      <td>Go Sedan</td>\n",
       "      <td>Shastri Nagar</td>\n",
       "      <td>Gurgaon Sector 56</td>\n",
       "      <td>4.9</td>\n",
       "      <td>14.0</td>\n",
       "      <td>...</td>\n",
       "      <td>None</td>\n",
       "      <td>None</td>\n",
       "      <td>None</td>\n",
       "      <td>1.0</td>\n",
       "      <td>Vehicle Breakdown</td>\n",
       "      <td>237.0</td>\n",
       "      <td>5.73</td>\n",
       "      <td>None</td>\n",
       "      <td>None</td>\n",
       "      <td>UPI</td>\n",
       "    </tr>\n",
       "  </tbody>\n",
       "</table>\n",
       "<p>1 rows × 21 columns</p>\n",
       "</div>"
      ],
      "text/plain": [
       "         Date      Time  Booking ID Booking Status Customer ID Vehicle Type  \\\n",
       "0  2024-11-29  18:01:39  CNR1326809     Incomplete  CID4604802     Go Sedan   \n",
       "\n",
       "  Pickup Location      Drop Location  Avg VTAT  Avg CTAT  ...  \\\n",
       "0   Shastri Nagar  Gurgaon Sector 56       4.9      14.0  ...   \n",
       "\n",
       "  Reason for cancelling by Customer Cancelled Rides by Driver  \\\n",
       "0                              None                      None   \n",
       "\n",
       "  Driver Cancellation Reason Incomplete Rides  Incomplete Rides Reason  \\\n",
       "0                       None              1.0        Vehicle Breakdown   \n",
       "\n",
       "  Booking Value  Ride Distance  Driver Ratings Customer Rating Payment Method  \n",
       "0         237.0           5.73            None            None            UPI  \n",
       "\n",
       "[1 rows x 21 columns]"
      ]
     },
     "execution_count": 6,
     "metadata": {},
     "output_type": "execute_result"
    }
   ],
   "source": [
    "# Create a new data\n",
    "# Use all columns not just the results of feature selection\n",
    "\n",
    "data_inf_user_1 = {\n",
    "    'Date': '2024-11-29',\n",
    "    'Time': '18:01:39',\n",
    "    'Booking ID': \"CNR1326809\",\n",
    "    'Booking Status': 'Incomplete',\n",
    "    'Customer ID': 'CID4604802',\n",
    "    'Vehicle Type': 'Go Sedan',\n",
    "    'Pickup Location': 'Shastri Nagar',\n",
    "    'Drop Location': 'Gurgaon Sector 56',\n",
    "    'Avg VTAT': 4.9,\n",
    "    'Avg CTAT': 14.0,\n",
    "    'Cancelled Rides by Customer': None,\n",
    "    'Reason for cancelling by Customer': None,\n",
    "    'Cancelled Rides by Driver': None,\n",
    "    'Driver Cancellation Reason': None,\n",
    "    'Incomplete Rides': 1.0,\n",
    "    'Incomplete Rides Reason': 'Vehicle Breakdown',\n",
    "    'Booking Value': 237.0,\n",
    "    'Ride Distance': 5.73,\n",
    "    'Driver Ratings': None,\n",
    "    'Customer Rating': None,\n",
    "    'Payment Method': 'UPI',\n",
    "}\n",
    "\n",
    "data_inf = pd.DataFrame([data_inf_user_1])\n",
    "data_inf"
   ]
  },
  {
   "cell_type": "code",
   "execution_count": 7,
   "id": "32439c5c",
   "metadata": {},
   "outputs": [
    {
     "data": {
      "text/plain": [
       "array([1])"
      ]
     },
     "execution_count": 7,
     "metadata": {},
     "output_type": "execute_result"
    }
   ],
   "source": [
    "y_pred_inf = model_akhir.predict(data_inf)\n",
    "y_pred_inf"
   ]
  },
  {
   "cell_type": "markdown",
   "id": "8b39f6f5",
   "metadata": {},
   "source": [
    "diprediksi bahwa data user tersebut akan memiliki nilai is_cancel = 1, artinya mereka diprediksikan akan melakukan dicancel oleh pelanggan atau driver."
   ]
  }
 ],
 "metadata": {
  "kernelspec": {
   "display_name": "h8_env",
   "language": "python",
   "name": "python3"
  },
  "language_info": {
   "codemirror_mode": {
    "name": "ipython",
    "version": 3
   },
   "file_extension": ".py",
   "mimetype": "text/x-python",
   "name": "python",
   "nbconvert_exporter": "python",
   "pygments_lexer": "ipython3",
   "version": "3.9.23"
  }
 },
 "nbformat": 4,
 "nbformat_minor": 5
}
